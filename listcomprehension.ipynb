{
 "cells": [
  {
   "cell_type": "code",
   "execution_count": 7,
   "id": "7deb3684-5659-4fb8-8f6e-7759d03cab12",
   "metadata": {},
   "outputs": [],
   "source": [
    "# how to traverse though a list of strings and then add the length of the words in the new list "
   ]
  },
  {
   "cell_type": "code",
   "execution_count": 8,
   "id": "21a43222-3459-4fa2-b155-ec63ace28e89",
   "metadata": {},
   "outputs": [
    {
     "name": "stdout",
     "output_type": "stream",
     "text": [
      "['the', 'quick', 'brown', 'fox', 'jumps', 'over', 'the', 'lazy', 'dog']\n"
     ]
    }
   ],
   "source": [
    "words=\"the quick brown fox jumps over the lazy dog\"\n",
    "wordlist=words.split(' ')\n",
    "newlist=[word for word in wordlist]\n",
    "print(newlist)"
   ]
  },
  {
   "cell_type": "code",
   "execution_count": 9,
   "id": "3cc26d9d-361a-49e9-aeab-9b6a53f60a3f",
   "metadata": {},
   "outputs": [],
   "source": [
    "newlist=[len(word) for word in wordlist]"
   ]
  },
  {
   "cell_type": "code",
   "execution_count": 10,
   "id": "3ef5e425-76bb-4346-9dff-54b01b11e28d",
   "metadata": {},
   "outputs": [
    {
     "data": {
      "text/plain": [
       "[3, 5, 5, 3, 5, 4, 3, 4, 3]"
      ]
     },
     "execution_count": 10,
     "metadata": {},
     "output_type": "execute_result"
    }
   ],
   "source": [
    "newlist"
   ]
  },
  {
   "cell_type": "code",
   "execution_count": 11,
   "id": "cb70303a-843f-4a80-a2db-1c2cffe03493",
   "metadata": {},
   "outputs": [
    {
     "name": "stdout",
     "output_type": "stream",
     "text": [
      "[34.6, 44.9, 68.3, 44.6, 12.7]\n"
     ]
    }
   ],
   "source": [
    "numbers = [34.6, -203.4, 44.9, 68.3, -12.2, 44.6, 12.7]\n",
    "newlist = [x for x in numbers if x >=0]\n",
    "print(newlist)"
   ]
  },
  {
   "cell_type": "code",
   "execution_count": null,
   "id": "39913f3b-2ee4-4d73-be3a-6db7d8291955",
   "metadata": {},
   "outputs": [],
   "source": []
  },
  {
   "cell_type": "code",
   "execution_count": null,
   "id": "30b14c20-809d-4579-b56c-8f41b7ca6aef",
   "metadata": {},
   "outputs": [],
   "source": [
    "# like creating the number lsit new list form scratch"
   ]
  },
  {
   "cell_type": "code",
   "execution_count": 13,
   "id": "7a4b886f-67b8-4738-bb31-010da35f9de8",
   "metadata": {},
   "outputs": [
    {
     "data": {
      "text/plain": [
       "[0, 1, 2, 3, 4, 5, 6, 7, 8, 9]"
      ]
     },
     "execution_count": 13,
     "metadata": {},
     "output_type": "execute_result"
    }
   ],
   "source": [
    "num=[x for x in range(10)]\n",
    "num"
   ]
  },
  {
   "cell_type": "code",
   "execution_count": null,
   "id": "48fe0fed-417e-4cca-bae9-b31d75c2aae6",
   "metadata": {},
   "outputs": [],
   "source": []
  },
  {
   "cell_type": "code",
   "execution_count": null,
   "id": "c418b236-589c-4c26-affa-55552729056f",
   "metadata": {},
   "outputs": [],
   "source": []
  },
  {
   "cell_type": "code",
   "execution_count": null,
   "id": "ff6c584e-f145-41e9-8735-c52d89768b67",
   "metadata": {},
   "outputs": [],
   "source": []
  },
  {
   "cell_type": "code",
   "execution_count": null,
   "id": "f449d568-d44f-47e8-8525-786d4716c532",
   "metadata": {},
   "outputs": [],
   "source": []
  },
  {
   "cell_type": "code",
   "execution_count": null,
   "id": "1e1541fc-e331-4687-b151-ffbea08a1cee",
   "metadata": {},
   "outputs": [],
   "source": []
  },
  {
   "cell_type": "code",
   "execution_count": null,
   "id": "ffd6bd30-59e7-4913-9715-141f5a5918a3",
   "metadata": {},
   "outputs": [],
   "source": []
  },
  {
   "cell_type": "code",
   "execution_count": null,
   "id": "0b6d94fe-b711-413f-8b9c-b0cade6035f5",
   "metadata": {},
   "outputs": [],
   "source": []
  },
  {
   "cell_type": "code",
   "execution_count": null,
   "id": "54ea9cb1-6536-4f5b-bc67-25c237720529",
   "metadata": {},
   "outputs": [],
   "source": []
  }
 ],
 "metadata": {
  "kernelspec": {
   "display_name": "Python 3 (ipykernel)",
   "language": "python",
   "name": "python3"
  },
  "language_info": {
   "codemirror_mode": {
    "name": "ipython",
    "version": 3
   },
   "file_extension": ".py",
   "mimetype": "text/x-python",
   "name": "python",
   "nbconvert_exporter": "python",
   "pygments_lexer": "ipython3",
   "version": "3.10.12"
  }
 },
 "nbformat": 4,
 "nbformat_minor": 5
}
