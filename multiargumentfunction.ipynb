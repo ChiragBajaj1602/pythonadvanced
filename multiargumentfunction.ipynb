{
 "cells": [
  {
   "cell_type": "code",
   "execution_count": 1,
   "id": "1e84794a-a005-40e6-a8f2-0d40b6e5d9a1",
   "metadata": {},
   "outputs": [
    {
     "name": "stdout",
     "output_type": "stream",
     "text": [
      "First sher\n",
      "Second  khan\n",
      "Third aya\n",
      "And rest of the arguments in the list ['bhago', 'jungele', 'mein']\n"
     ]
    }
   ],
   "source": [
    "def muliargfun(first,second,third,*args):\n",
    "    print(\"First %s\"%first)\n",
    "    print(\"Second  %s\"%second)\n",
    "    print(\"Third %s\"%third)\n",
    "    print(\"And rest of the arguments in the list %s\"%list(args))\n",
    "\n",
    "muliargfun(\"sher\",\"khan\",\"aya\",\"bhago\",\"jungele\",\"mein\")"
   ]
  },
  {
   "cell_type": "code",
   "execution_count": 3,
   "id": "6bd64860-19bb-47e4-a772-4b43f9bba4d9",
   "metadata": {},
   "outputs": [
    {
     "name": "stdout",
     "output_type": "stream",
     "text": [
      "The operation of minus is selected in the keyword arguments -2\n",
      "5\n"
     ]
    }
   ],
   "source": [
    "def kwargfunction(first,second,third,**kwargs):\n",
    "    if kwargs.get(\"action\")==\"minus\":\n",
    "        print(\"The operation of minus is selected in the keyword arguments %d\"%(first-second-third))\n",
    "    if kwargs.get(\"number\")==\"first\":\n",
    "        return first\n",
    "result=kwargfunction(5,4,3,action=\"minus\",number=\"first\")\n",
    "print(result)"
   ]
  },
  {
   "cell_type": "code",
   "execution_count": null,
   "id": "2cf29d06-2d0d-4d6d-8783-64b80f6b2706",
   "metadata": {},
   "outputs": [],
   "source": [
    "# excercise of teh website"
   ]
  },
  {
   "cell_type": "code",
   "execution_count": 4,
   "id": "c4c72c7b-4f25-4598-9575-094c8c9fcce5",
   "metadata": {},
   "outputs": [
    {
     "name": "stdout",
     "output_type": "stream",
     "text": [
      "Good.\n",
      "Better.\n",
      "Great.\n",
      "Awesome!\n"
     ]
    }
   ],
   "source": [
    "def foo(a, b, c, *args):\n",
    "    return len(args)\n",
    "\n",
    "def bar(a, b, c, **kwargs):\n",
    "    return kwargs[\"magicnumber\"] == 7\n",
    "\n",
    "\n",
    "# test code\n",
    "if foo(1, 2, 3, 4) == 1:\n",
    "    print(\"Good.\")\n",
    "if foo(1, 2, 3, 4, 5) == 2:\n",
    "    print(\"Better.\")\n",
    "if bar(1, 2, 3, magicnumber=6) == False:\n",
    "    print(\"Great.\")\n",
    "if bar(1, 2, 3, magicnumber=7) == True:\n",
    "    print(\"Awesome!\")"
   ]
  }
 ],
 "metadata": {
  "kernelspec": {
   "display_name": "Python 3 (ipykernel)",
   "language": "python",
   "name": "python3"
  },
  "language_info": {
   "codemirror_mode": {
    "name": "ipython",
    "version": 3
   },
   "file_extension": ".py",
   "mimetype": "text/x-python",
   "name": "python",
   "nbconvert_exporter": "python",
   "pygments_lexer": "ipython3",
   "version": "3.10.12"
  }
 },
 "nbformat": 4,
 "nbformat_minor": 5
}
