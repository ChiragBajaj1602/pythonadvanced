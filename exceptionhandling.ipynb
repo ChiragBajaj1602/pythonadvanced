{
 "cells": [
  {
   "cell_type": "code",
   "execution_count": 1,
   "id": "9a0a4cfc-8f1f-4172-9705-2d4baf6fbd25",
   "metadata": {},
   "outputs": [
    {
     "name": "stdout",
     "output_type": "stream",
     "text": [
      "there is an error in the printing\n"
     ]
    }
   ],
   "source": [
    "try:\n",
    "    print(x)\n",
    "except:\n",
    "    print(\"there is an error in the printing\")\n",
    "\n"
   ]
  },
  {
   "cell_type": "code",
   "execution_count": 2,
   "id": "c87dfe0a-a8cc-41ac-97a6-c6a16eb72ce2",
   "metadata": {},
   "outputs": [
    {
     "name": "stdout",
     "output_type": "stream",
     "text": [
      "Varriable x is not defined\n"
     ]
    }
   ],
   "source": [
    "try:\n",
    "    print(x)\n",
    "except NameError:\n",
    "    print(\"Varriable x is not defined\")\n",
    "except:\n",
    "    print(\"Any other reason in printing\")"
   ]
  },
  {
   "cell_type": "code",
   "execution_count": 3,
   "id": "9379cba3-e561-468f-88db-b17c572f6c38",
   "metadata": {},
   "outputs": [
    {
     "name": "stdout",
     "output_type": "stream",
     "text": [
      "something went wrong\n",
      "not catching any further exceptions\n"
     ]
    }
   ],
   "source": [
    "try:\n",
    "    print(x)\n",
    "except:\n",
    "    print(\"something went wrong\")\n",
    "finally:\n",
    "    print(\"not catching any further exceptions\")"
   ]
  },
  {
   "cell_type": "code",
   "execution_count": 5,
   "id": "5c1f6acc-9cbe-41df-8c45-4b21826b1d8b",
   "metadata": {},
   "outputs": [
    {
     "ename": "Exception",
     "evalue": "sorry nno numbers below zero",
     "output_type": "error",
     "traceback": [
      "\u001b[0;31m---------------------------------------------------------------------------\u001b[0m",
      "\u001b[0;31mException\u001b[0m                                 Traceback (most recent call last)",
      "Cell \u001b[0;32mIn[5], line 3\u001b[0m\n\u001b[1;32m      1\u001b[0m x\u001b[38;5;241m=\u001b[39m\u001b[38;5;241m-\u001b[39m\u001b[38;5;241m1\u001b[39m\n\u001b[1;32m      2\u001b[0m \u001b[38;5;28;01mif\u001b[39;00m x\u001b[38;5;241m<\u001b[39m\u001b[38;5;241m0\u001b[39m:\n\u001b[0;32m----> 3\u001b[0m     \u001b[38;5;28;01mraise\u001b[39;00m \u001b[38;5;167;01mException\u001b[39;00m(\u001b[38;5;124m\"\u001b[39m\u001b[38;5;124msorry nno numbers below zero\u001b[39m\u001b[38;5;124m\"\u001b[39m)\n",
      "\u001b[0;31mException\u001b[0m: sorry nno numbers below zero"
     ]
    }
   ],
   "source": [
    "x=-1\n",
    "if x<0:\n",
    "    raise Exception(\"sorry nno numbers below zero\")"
   ]
  },
  {
   "cell_type": "code",
   "execution_count": 6,
   "id": "8df9bee0-c551-4e68-b72c-cf8681e8dce6",
   "metadata": {},
   "outputs": [
    {
     "name": "stdout",
     "output_type": "stream",
     "text": [
      "All exceptions caught! Good job!\n",
      "The actor's last name is Cleese\n"
     ]
    }
   ],
   "source": [
    "actor = {\"name\": \"John Cleese\", \"rank\": \"awesome\"}\n",
    "\n",
    "def get_last_name():\n",
    "    list1= actor[\"name\"].split()\n",
    "    return list1[1]\n",
    "\n",
    "get_last_name()\n",
    "print(\"All exceptions caught! Good job!\")\n",
    "print(\"The actor's last name is %s\" % get_last_name())"
   ]
  },
  {
   "cell_type": "code",
   "execution_count": null,
   "id": "2590b073-9031-4395-8a4e-6dfe3e7f5413",
   "metadata": {},
   "outputs": [],
   "source": []
  },
  {
   "cell_type": "code",
   "execution_count": null,
   "id": "8c5801fe-1372-43c3-9d17-61742238914d",
   "metadata": {},
   "outputs": [],
   "source": []
  },
  {
   "cell_type": "code",
   "execution_count": null,
   "id": "4cae345e-1a29-4211-9476-e5f548f94a11",
   "metadata": {},
   "outputs": [],
   "source": []
  },
  {
   "cell_type": "code",
   "execution_count": null,
   "id": "10b40736-aea1-40f4-9cc2-975a119940b8",
   "metadata": {},
   "outputs": [],
   "source": []
  },
  {
   "cell_type": "code",
   "execution_count": null,
   "id": "c8e1528a-8d09-4e3f-80e3-14c03649cc12",
   "metadata": {},
   "outputs": [],
   "source": []
  },
  {
   "cell_type": "code",
   "execution_count": null,
   "id": "913ad937-b4ed-40db-86bb-04aee2aea6d4",
   "metadata": {},
   "outputs": [],
   "source": []
  },
  {
   "cell_type": "code",
   "execution_count": null,
   "id": "e4abcd70-1a76-40ca-91fb-08a42cc39389",
   "metadata": {},
   "outputs": [],
   "source": []
  }
 ],
 "metadata": {
  "kernelspec": {
   "display_name": "Python 3 (ipykernel)",
   "language": "python",
   "name": "python3"
  },
  "language_info": {
   "codemirror_mode": {
    "name": "ipython",
    "version": 3
   },
   "file_extension": ".py",
   "mimetype": "text/x-python",
   "name": "python",
   "nbconvert_exporter": "python",
   "pygments_lexer": "ipython3",
   "version": "3.10.12"
  }
 },
 "nbformat": 4,
 "nbformat_minor": 5
}
