{
 "cells": [
  {
   "cell_type": "code",
   "execution_count": 1,
   "id": "3dd6f92f-8611-4c7f-86e4-f06b5095e0b7",
   "metadata": {},
   "outputs": [],
   "source": [
    "import json"
   ]
  },
  {
   "cell_type": "code",
   "execution_count": 3,
   "id": "39cb0bab-405e-47c9-a1c6-9e203ceacb6a",
   "metadata": {},
   "outputs": [
    {
     "name": "stdout",
     "output_type": "stream",
     "text": [
      "{'name': 'John'}\n"
     ]
    }
   ],
   "source": [
    "print(json.loads('{\"name\":\"John\"}'))"
   ]
  },
  {
   "cell_type": "code",
   "execution_count": 4,
   "id": "ae38016b-9f30-4ad5-a8ce-6b3ee735b9b4",
   "metadata": {},
   "outputs": [
    {
     "name": "stdout",
     "output_type": "stream",
     "text": [
      "[1, 2, 3, \"a\", \"ab\", \"abc\"]\n"
     ]
    }
   ],
   "source": [
    "json_string=json.dumps([1,2,3,\"a\",\"ab\",\"abc\"])\n",
    "print(json_string)"
   ]
  },
  {
   "cell_type": "code",
   "execution_count": 5,
   "id": "cb3d21cf-9ba5-45e7-b6b8-32a5db4e9952",
   "metadata": {},
   "outputs": [
    {
     "name": "stdout",
     "output_type": "stream",
     "text": [
      "[1, 1, 2, 3, 'a', 'b', 'c']\n"
     ]
    }
   ],
   "source": [
    "import pickle\n",
    "picked_string=pickle.dumps([1,1,2,3,\"a\",\"b\",\"c\"])\n",
    "print(pickle.loads(picked_string))"
   ]
  },
  {
   "cell_type": "code",
   "execution_count": null,
   "id": "4a1384c8-53a5-468e-bb69-00d75e5b7489",
   "metadata": {},
   "outputs": [],
   "source": [
    "import json\n",
    "def add_employee(salaries_json,name,salary):\n",
    "    "
   ]
  },
  {
   "cell_type": "code",
   "execution_count": 7,
   "id": "7d564419-ef55-4757-9606-3c8c6bd50f48",
   "metadata": {},
   "outputs": [
    {
     "name": "stdout",
     "output_type": "stream",
     "text": [
      "300\n",
      "400\n",
      "800\n"
     ]
    }
   ],
   "source": [
    "import json\n",
    "\n",
    "def add_employee(salaries_json, name, salary):\n",
    "    salaries = json.loads(salaries_json)\n",
    "    salaries[name] = salary\n",
    "\n",
    "    return json.dumps(salaries)\n",
    "salaries = '{\"Alfred\" : 300, \"Jane\" : 400 }'\n",
    "new_salaries = add_employee(salaries, \"XYX\", 800)\n",
    "decoded_salaries = json.loads(new_salaries)\n",
    "print(decoded_salaries[\"Alfred\"])\n",
    "print(decoded_salaries[\"Jane\"])\n",
    "print(decoded_salaries[\"XYX\"])"
   ]
  },
  {
   "cell_type": "code",
   "execution_count": null,
   "id": "a7bf20d3-cfa5-4597-8469-6ded6fbc7794",
   "metadata": {},
   "outputs": [],
   "source": []
  },
  {
   "cell_type": "code",
   "execution_count": null,
   "id": "265007cd-2a48-4fc8-8fb1-f0e815fac5ff",
   "metadata": {},
   "outputs": [],
   "source": []
  },
  {
   "cell_type": "code",
   "execution_count": null,
   "id": "4221fb70-4e55-4536-929b-c42998880c2d",
   "metadata": {},
   "outputs": [],
   "source": []
  },
  {
   "cell_type": "code",
   "execution_count": null,
   "id": "ef290bdc-4709-49d1-8eef-8f7e817f42bb",
   "metadata": {},
   "outputs": [],
   "source": []
  },
  {
   "cell_type": "code",
   "execution_count": null,
   "id": "18c3af6e-cc13-4f41-a09e-045f215d79b6",
   "metadata": {},
   "outputs": [],
   "source": []
  },
  {
   "cell_type": "code",
   "execution_count": null,
   "id": "8a8dc6a4-61d2-4306-9bef-b69374f1eab1",
   "metadata": {},
   "outputs": [],
   "source": []
  },
  {
   "cell_type": "code",
   "execution_count": null,
   "id": "b923ebc5-d380-48b1-94e6-12873974b170",
   "metadata": {},
   "outputs": [],
   "source": []
  },
  {
   "cell_type": "code",
   "execution_count": null,
   "id": "9731db3e-c0d7-43be-9aee-1c572b41b482",
   "metadata": {},
   "outputs": [],
   "source": []
  },
  {
   "cell_type": "code",
   "execution_count": null,
   "id": "2f54d1ea-a95a-4f6d-a153-1b6bd704a98b",
   "metadata": {},
   "outputs": [],
   "source": []
  },
  {
   "cell_type": "code",
   "execution_count": null,
   "id": "6e8fbb9b-f247-4c07-bdb5-adc9b4bf612e",
   "metadata": {},
   "outputs": [],
   "source": []
  },
  {
   "cell_type": "code",
   "execution_count": null,
   "id": "0c8af382-ee44-4e48-b3a9-c9b681e6f7f6",
   "metadata": {},
   "outputs": [],
   "source": []
  },
  {
   "cell_type": "code",
   "execution_count": null,
   "id": "60b4cc93-64bd-4f2b-83d5-656d207ecb48",
   "metadata": {},
   "outputs": [],
   "source": []
  },
  {
   "cell_type": "code",
   "execution_count": null,
   "id": "309e7f8e-ef5a-4fc2-b240-31987d43ab68",
   "metadata": {},
   "outputs": [],
   "source": []
  },
  {
   "cell_type": "code",
   "execution_count": null,
   "id": "f79398b8-c081-4f4b-9c44-3fb51fe2b2a6",
   "metadata": {},
   "outputs": [],
   "source": []
  }
 ],
 "metadata": {
  "kernelspec": {
   "display_name": "Python 3 (ipykernel)",
   "language": "python",
   "name": "python3"
  },
  "language_info": {
   "codemirror_mode": {
    "name": "ipython",
    "version": 3
   },
   "file_extension": ".py",
   "mimetype": "text/x-python",
   "name": "python",
   "nbconvert_exporter": "python",
   "pygments_lexer": "ipython3",
   "version": "3.10.12"
  }
 },
 "nbformat": 4,
 "nbformat_minor": 5
}
