{
 "cells": [
  {
   "cell_type": "code",
   "execution_count": 2,
   "id": "c25fc85a-6923-4076-8237-d56da1918fa2",
   "metadata": {},
   "outputs": [
    {
     "name": "stdout",
     "output_type": "stream",
     "text": [
      "10\n"
     ]
    }
   ],
   "source": [
    "def sum(a,b):\n",
    "    return a+b\n",
    "print(sum(1,9))"
   ]
  },
  {
   "cell_type": "code",
   "execution_count": 4,
   "id": "a4e0f715-2f23-4f74-be2e-19cd524c272b",
   "metadata": {},
   "outputs": [],
   "source": [
    "sum=lambda x,y:x+y"
   ]
  },
  {
   "cell_type": "code",
   "execution_count": 5,
   "id": "e8463c9b-18c4-4cac-b66c-a5bc14223ae6",
   "metadata": {},
   "outputs": [
    {
     "name": "stdout",
     "output_type": "stream",
     "text": [
      "11\n"
     ]
    }
   ],
   "source": [
    "print(sum(1,10))"
   ]
  },
  {
   "cell_type": "code",
   "execution_count": null,
   "id": "c01ba5f5-02b7-4cd1-8d51-705f107d7941",
   "metadata": {},
   "outputs": [],
   "source": [
    "# function to print whether the numbers in the list is odd or not and use list comprehension"
   ]
  },
  {
   "cell_type": "code",
   "execution_count": 7,
   "id": "f3f02139-2cd7-44a1-aec8-31e4eac48f67",
   "metadata": {},
   "outputs": [
    {
     "name": "stdout",
     "output_type": "stream",
     "text": [
      "[11, 15.5, 17, 19]\n"
     ]
    }
   ],
   "source": [
    "list1=[10,11,15.5,17,19]\n",
    "checkodd=lambda x:x%2!=0\n",
    "mylist=[ele for ele in list1 if checkodd(ele)]\n",
    "print(mylist)"
   ]
  },
  {
   "cell_type": "code",
   "execution_count": null,
   "id": "c4604119-a979-4f2e-a88c-77c4861ea51f",
   "metadata": {},
   "outputs": [],
   "source": []
  },
  {
   "cell_type": "code",
   "execution_count": null,
   "id": "e30c33e4-1110-40e2-abb1-7c194d8f1107",
   "metadata": {},
   "outputs": [],
   "source": []
  },
  {
   "cell_type": "code",
   "execution_count": null,
   "id": "d7d4c219-b030-49ef-bf08-5265e9d647cf",
   "metadata": {},
   "outputs": [],
   "source": []
  },
  {
   "cell_type": "code",
   "execution_count": null,
   "id": "83d38fab-9c9d-45e5-b164-2fd5c2fd35d7",
   "metadata": {},
   "outputs": [],
   "source": []
  },
  {
   "cell_type": "code",
   "execution_count": null,
   "id": "55205193-4c10-4fbf-afb7-7f1376473ec7",
   "metadata": {},
   "outputs": [],
   "source": []
  },
  {
   "cell_type": "code",
   "execution_count": null,
   "id": "a0597e23-4955-44b8-af0d-6da3db58a65a",
   "metadata": {},
   "outputs": [],
   "source": []
  },
  {
   "cell_type": "code",
   "execution_count": null,
   "id": "d51282f5-2326-4c31-bfe3-c3eb8516cedd",
   "metadata": {},
   "outputs": [],
   "source": []
  },
  {
   "cell_type": "code",
   "execution_count": null,
   "id": "786250ca-699c-4b42-bcd3-96ae9ebc2cda",
   "metadata": {},
   "outputs": [],
   "source": []
  }
 ],
 "metadata": {
  "kernelspec": {
   "display_name": "Python 3 (ipykernel)",
   "language": "python",
   "name": "python3"
  },
  "language_info": {
   "codemirror_mode": {
    "name": "ipython",
    "version": 3
   },
   "file_extension": ".py",
   "mimetype": "text/x-python",
   "name": "python",
   "nbconvert_exporter": "python",
   "pygments_lexer": "ipython3",
   "version": "3.10.12"
  }
 },
 "nbformat": 4,
 "nbformat_minor": 5
}
