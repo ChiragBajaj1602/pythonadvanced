{
 "cells": [
  {
   "cell_type": "code",
   "execution_count": 1,
   "id": "f6028f7d-81a3-4460-9b75-2ba6f2434432",
   "metadata": {},
   "outputs": [],
   "source": [
    "from functools import partial as part"
   ]
  },
  {
   "cell_type": "code",
   "execution_count": 2,
   "id": "a7d7d406-5772-4854-a081-c54bf9c012c2",
   "metadata": {},
   "outputs": [],
   "source": [
    "def multiply(x,y):\n",
    "    return x*y"
   ]
  },
  {
   "cell_type": "code",
   "execution_count": 4,
   "id": "bb67c09a-a35e-4b75-a672-57a54cd4cab4",
   "metadata": {},
   "outputs": [
    {
     "name": "stdout",
     "output_type": "stream",
     "text": [
      "8\n"
     ]
    }
   ],
   "source": [
    "dbl = part(multiply,2)\n",
    "print(dbl(4))"
   ]
  },
  {
   "cell_type": "code",
   "execution_count": 5,
   "id": "ac9a0d5f-03f1-4d73-804d-759c63a478d9",
   "metadata": {},
   "outputs": [
    {
     "name": "stdout",
     "output_type": "stream",
     "text": [
      "60\n"
     ]
    }
   ],
   "source": [
    "from functools import partial\n",
    "def func(u, v, w, x):\n",
    "    return u*4 + v*3 + w*2 + x\n",
    "#Enter your code here to create and print with your partial function\n",
    "newfun=partial(func,5,10,3)\n",
    "print(newfun(4))"
   ]
  },
  {
   "cell_type": "code",
   "execution_count": 6,
   "id": "a02a5ab2-332b-43cb-9612-3b3c69b5c58d",
   "metadata": {},
   "outputs": [
    {
     "name": "stdout",
     "output_type": "stream",
     "text": [
      "2\n"
     ]
    }
   ],
   "source": [
    "def tempfun(x,y,z):\n",
    "    return 8*x+6*y-9*z\n",
    "atrangifun=partial(tempfun,10,5)\n",
    "print(atrangifun(12))"
   ]
  },
  {
   "cell_type": "code",
   "execution_count": null,
   "id": "d8c4a700-6e40-484e-b245-a627ffda9d5a",
   "metadata": {},
   "outputs": [],
   "source": []
  },
  {
   "cell_type": "code",
   "execution_count": null,
   "id": "276784d2-cebd-418c-a9f3-b1a6f0947b7c",
   "metadata": {},
   "outputs": [],
   "source": []
  },
  {
   "cell_type": "code",
   "execution_count": null,
   "id": "8a6a6838-2cd6-47c8-bd51-6b8441b4c710",
   "metadata": {},
   "outputs": [],
   "source": []
  },
  {
   "cell_type": "code",
   "execution_count": null,
   "id": "8bc10f3b-2fe2-4c9f-bbba-e72ef2062de0",
   "metadata": {},
   "outputs": [],
   "source": []
  },
  {
   "cell_type": "code",
   "execution_count": null,
   "id": "a10b7e9a-07ff-4ce1-ba09-169d1386a6eb",
   "metadata": {},
   "outputs": [],
   "source": []
  },
  {
   "cell_type": "code",
   "execution_count": null,
   "id": "65c65c35-ed23-4a00-b9ef-60d24af56c6c",
   "metadata": {},
   "outputs": [],
   "source": []
  },
  {
   "cell_type": "code",
   "execution_count": null,
   "id": "d5405269-a433-4d78-9ea9-ab9cb931743b",
   "metadata": {},
   "outputs": [],
   "source": []
  }
 ],
 "metadata": {
  "kernelspec": {
   "display_name": "Python 3 (ipykernel)",
   "language": "python",
   "name": "python3"
  },
  "language_info": {
   "codemirror_mode": {
    "name": "ipython",
    "version": 3
   },
   "file_extension": ".py",
   "mimetype": "text/x-python",
   "name": "python",
   "nbconvert_exporter": "python",
   "pygments_lexer": "ipython3",
   "version": "3.10.12"
  }
 },
 "nbformat": 4,
 "nbformat_minor": 5
}
