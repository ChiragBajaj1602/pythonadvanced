{
 "cells": [
  {
   "cell_type": "code",
   "execution_count": 2,
   "id": "ea63857d-11e6-4a35-a76d-c3adb457fa38",
   "metadata": {},
   "outputs": [
    {
     "name": "stdout",
     "output_type": "stream",
     "text": [
      "{'my', 'love', 'is', 'name', 'and', 'jack', 'i', 'jill'}\n"
     ]
    }
   ],
   "source": [
    "print(set(\"my name is jack and i love jill\".split()))"
   ]
  },
  {
   "cell_type": "code",
   "execution_count": 3,
   "id": "05f392d1-f919-406e-881d-7dec6773de64",
   "metadata": {},
   "outputs": [
    {
     "name": "stdout",
     "output_type": "stream",
     "text": [
      "<class 'set'>\n"
     ]
    }
   ],
   "source": [
    "fruitset={\"apple\",\"banana\",\"cherry\"}\n",
    "print(type(fruitset))"
   ]
  },
  {
   "cell_type": "code",
   "execution_count": 5,
   "id": "2bf8c62f-d7cb-433f-b871-b84a201f93c1",
   "metadata": {},
   "outputs": [
    {
     "name": "stdout",
     "output_type": "stream",
     "text": [
      "{'banana', 'cherry', 'apple'}\n"
     ]
    }
   ],
   "source": [
    "print(fruitset)"
   ]
  },
  {
   "cell_type": "code",
   "execution_count": 6,
   "id": "33cdc544-fe3d-462b-948e-0801d99480ec",
   "metadata": {},
   "outputs": [
    {
     "name": "stdout",
     "output_type": "stream",
     "text": [
      "{False, 'banan', True, 'veges', 'fruist'}\n"
     ]
    }
   ],
   "source": [
    "this_varriableset={\"banan\",\"fruist\",\"veges\",True,False,0,1}\n",
    "print(this_varriableset)"
   ]
  },
  {
   "cell_type": "code",
   "execution_count": 7,
   "id": "95ec5932-0eb5-45c1-8e24-8dcd31fab987",
   "metadata": {},
   "outputs": [
    {
     "name": "stdout",
     "output_type": "stream",
     "text": [
      "5\n"
     ]
    }
   ],
   "source": [
    "print(len(this_varriableset))"
   ]
  },
  {
   "cell_type": "code",
   "execution_count": 8,
   "id": "95ef0170-7e8a-48f9-b3ec-b1bbd773f84a",
   "metadata": {},
   "outputs": [
    {
     "name": "stdout",
     "output_type": "stream",
     "text": [
      "False\n",
      "banan\n",
      "True\n",
      "veges\n",
      "fruist\n"
     ]
    }
   ],
   "source": [
    "for x in this_varriableset:\n",
    "    print(x)"
   ]
  },
  {
   "cell_type": "code",
   "execution_count": 9,
   "id": "b338d186-d486-4184-9d23-d5d3cedb91ee",
   "metadata": {},
   "outputs": [
    {
     "data": {
      "text/plain": [
       "<generator object iteratefruitset at 0x7f0728545af0>"
      ]
     },
     "execution_count": 9,
     "metadata": {},
     "output_type": "execute_result"
    }
   ],
   "source": [
    "def iteratefruitset(fruitset):\n",
    "    for x in range(len(fruitset)):\n",
    "        yield fruitset[x]\n",
    "iteratefruitset(fruitset)"
   ]
  },
  {
   "cell_type": "code",
   "execution_count": 10,
   "id": "5ca70bca-6b0f-434c-ab9b-58aa196a7e6d",
   "metadata": {},
   "outputs": [
    {
     "name": "stdout",
     "output_type": "stream",
     "text": [
      "True\n"
     ]
    }
   ],
   "source": [
    "print(\"banana\" in fruitset)"
   ]
  },
  {
   "cell_type": "code",
   "execution_count": 13,
   "id": "43109296-84fa-4015-ae15-fcac57cb3128",
   "metadata": {},
   "outputs": [],
   "source": [
    "fruitset.update({\"orange\",\"apple\",\"pineapple\"})"
   ]
  },
  {
   "cell_type": "code",
   "execution_count": 15,
   "id": "d5017e18-37f5-4552-911f-9dd45a3683d6",
   "metadata": {},
   "outputs": [
    {
     "name": "stdout",
     "output_type": "stream",
     "text": [
      "{'banana', 'cherry', 'pineapple', 'orange', 'apple'}\n"
     ]
    }
   ],
   "source": [
    "print(fruitset)"
   ]
  },
  {
   "cell_type": "code",
   "execution_count": 19,
   "id": "cb5ff623-026e-44c7-815d-a3d05fdc9150",
   "metadata": {},
   "outputs": [],
   "source": [
    "# add method is used to add only one element while the update method is used to add the multiple elements in the set"
   ]
  },
  {
   "cell_type": "code",
   "execution_count": 20,
   "id": "92c5f7fd-11ec-44e9-93c5-b2d0ccf9e79b",
   "metadata": {},
   "outputs": [],
   "source": [
    "thisset={\"apple\",\"banana\",\"pear\"}\n",
    "thisset.remove(\"banana\")\n"
   ]
  },
  {
   "cell_type": "code",
   "execution_count": 22,
   "id": "aaec88e1-a64d-4c6e-a1f9-fde374067ba9",
   "metadata": {},
   "outputs": [
    {
     "data": {
      "text/plain": [
       "{'apple', 'pear'}"
      ]
     },
     "execution_count": 22,
     "metadata": {},
     "output_type": "execute_result"
    }
   ],
   "source": [
    "thisset"
   ]
  },
  {
   "cell_type": "code",
   "execution_count": 23,
   "id": "0dcd538e-9845-479f-be0b-aae9e7bdd0b0",
   "metadata": {},
   "outputs": [
    {
     "ename": "KeyError",
     "evalue": "'banana'",
     "output_type": "error",
     "traceback": [
      "\u001b[0;31m---------------------------------------------------------------------------\u001b[0m",
      "\u001b[0;31mKeyError\u001b[0m                                  Traceback (most recent call last)",
      "Cell \u001b[0;32mIn[23], line 1\u001b[0m\n\u001b[0;32m----> 1\u001b[0m \u001b[43mthisset\u001b[49m\u001b[38;5;241;43m.\u001b[39;49m\u001b[43mremove\u001b[49m\u001b[43m(\u001b[49m\u001b[38;5;124;43m\"\u001b[39;49m\u001b[38;5;124;43mbanana\u001b[39;49m\u001b[38;5;124;43m\"\u001b[39;49m\u001b[43m)\u001b[49m\n",
      "\u001b[0;31mKeyError\u001b[0m: 'banana'"
     ]
    }
   ],
   "source": [
    "thisset.remove(\"banana\")"
   ]
  },
  {
   "cell_type": "code",
   "execution_count": 25,
   "id": "07f0de36-517a-4de9-8a21-4d4b3181bdb5",
   "metadata": {},
   "outputs": [
    {
     "name": "stdout",
     "output_type": "stream",
     "text": [
      "The key does not exists\n"
     ]
    }
   ],
   "source": [
    "try:\n",
    "    thisset.remove(\"banana\")\n",
    "except:\n",
    "    print(\"The key does not exists\")"
   ]
  },
  {
   "cell_type": "code",
   "execution_count": 26,
   "id": "b1730498-f3ce-432d-8967-bf8eea43b501",
   "metadata": {},
   "outputs": [],
   "source": [
    "# The discard method will not raise any error"
   ]
  },
  {
   "cell_type": "code",
   "execution_count": 27,
   "id": "bf24e19d-5503-4a90-9129-83ff0e233749",
   "metadata": {},
   "outputs": [],
   "source": [
    "thisset.discard(\"banana\")"
   ]
  },
  {
   "cell_type": "code",
   "execution_count": 28,
   "id": "d2ffaa39-5198-4244-bfe2-8f621eb3ed74",
   "metadata": {},
   "outputs": [],
   "source": [
    "x=thisset.pop()"
   ]
  },
  {
   "cell_type": "code",
   "execution_count": 29,
   "id": "e795eb7e-b7b2-4158-8a3c-b8e3378b3d1e",
   "metadata": {},
   "outputs": [
    {
     "name": "stdout",
     "output_type": "stream",
     "text": [
      "pear\n"
     ]
    }
   ],
   "source": [
    "print(x)"
   ]
  },
  {
   "cell_type": "code",
   "execution_count": 30,
   "id": "611d426d-98a9-476c-996f-86d0beb8c77b",
   "metadata": {},
   "outputs": [],
   "source": [
    "thisset.update([\"apple\",\"banana\",\"pear\"])"
   ]
  },
  {
   "cell_type": "code",
   "execution_count": null,
   "id": "e7f5065e-e98a-41b9-add2-cceb1ee9d6c0",
   "metadata": {},
   "outputs": [],
   "source": [
    "# the clear method will delete all the elements in the set"
   ]
  },
  {
   "cell_type": "code",
   "execution_count": 31,
   "id": "914c2f55-a462-4d8c-8712-492c7db19335",
   "metadata": {},
   "outputs": [],
   "source": [
    "thisset.clear()"
   ]
  },
  {
   "cell_type": "raw",
   "id": "49a76ebe-ea20-48e8-958f-ad854ef0e889",
   "metadata": {},
   "source": [
    "print(thisset)"
   ]
  },
  {
   "cell_type": "code",
   "execution_count": null,
   "id": "9e32aa24-63c7-456b-92e3-af984f4e883c",
   "metadata": {},
   "outputs": [],
   "source": []
  },
  {
   "cell_type": "code",
   "execution_count": null,
   "id": "a3f9ec2a-3b90-4816-8f22-6edbd3b66e48",
   "metadata": {},
   "outputs": [],
   "source": [
    "# but the del method will delete everything for the set and  even the memory location"
   ]
  },
  {
   "cell_type": "code",
   "execution_count": 32,
   "id": "12a4f3ac-aa91-40df-a80b-2067ab276c66",
   "metadata": {},
   "outputs": [],
   "source": [
    "del thisset"
   ]
  },
  {
   "cell_type": "code",
   "execution_count": 37,
   "id": "a2ff2b34-bbaa-4ff3-8477-093538d0dc77",
   "metadata": {},
   "outputs": [],
   "source": [
    "thisset={\"applle\"}"
   ]
  },
  {
   "cell_type": "code",
   "execution_count": 38,
   "id": "2bc7d3e8-0896-4757-9ea2-495bffa9d4f8",
   "metadata": {},
   "outputs": [],
   "source": [
    "thisset.update([\"Hathi\",\"ghoda\",\"popat\",\"maina\"])"
   ]
  },
  {
   "cell_type": "code",
   "execution_count": 39,
   "id": "668ac4c4-30ea-4dac-9380-53d631ea3304",
   "metadata": {},
   "outputs": [
    {
     "data": {
      "text/plain": [
       "{'Hathi', 'applle', 'ghoda', 'maina', 'popat'}"
      ]
     },
     "execution_count": 39,
     "metadata": {},
     "output_type": "execute_result"
    }
   ],
   "source": [
    "thisset"
   ]
  },
  {
   "cell_type": "code",
   "execution_count": 40,
   "id": "1915d6e0-dd3b-4e85-b97b-c97ce1cafc47",
   "metadata": {},
   "outputs": [],
   "source": [
    "thisset.discard(\"applle\")"
   ]
  },
  {
   "cell_type": "code",
   "execution_count": null,
   "id": "74ef2b18-2f19-4581-b0f8-a8b8383ed929",
   "metadata": {},
   "outputs": [],
   "source": [
    "# operations on the sets like union and intersections"
   ]
  },
  {
   "cell_type": "code",
   "execution_count": 41,
   "id": "7009f366-3d9e-42a5-8616-0432f38126d4",
   "metadata": {},
   "outputs": [],
   "source": [
    "set1={\"Jack\",\"jill\",\"jane\",\"john\"}\n",
    "set2={\"Anti\",\"bunty\"}"
   ]
  },
  {
   "cell_type": "code",
   "execution_count": 42,
   "id": "11445c67-1503-4188-a5f1-9e5df465dbeb",
   "metadata": {},
   "outputs": [],
   "source": [
    "set3=set1.union(set2)"
   ]
  },
  {
   "cell_type": "code",
   "execution_count": 43,
   "id": "578407e6-2427-4585-a079-85858725f0be",
   "metadata": {},
   "outputs": [
    {
     "name": "stdout",
     "output_type": "stream",
     "text": [
      "{'bunty', 'Jack', 'john', 'jane', 'jill', 'Anti'}\n"
     ]
    }
   ],
   "source": [
    "print(set3)"
   ]
  },
  {
   "cell_type": "code",
   "execution_count": 44,
   "id": "22048645-ab97-45f8-bd3a-0ed23779d7eb",
   "metadata": {},
   "outputs": [
    {
     "data": {
      "text/plain": [
       "set()"
      ]
     },
     "execution_count": 44,
     "metadata": {},
     "output_type": "execute_result"
    }
   ],
   "source": [
    "set1.intersection(set2)"
   ]
  },
  {
   "cell_type": "code",
   "execution_count": 46,
   "id": "b71b4c93-d6a6-40cc-9488-f1c053c1fabc",
   "metadata": {},
   "outputs": [],
   "source": [
    "z=set1.symmetric_difference(set2)"
   ]
  },
  {
   "cell_type": "code",
   "execution_count": 47,
   "id": "7de96e52-0840-4f51-8dfd-cbe962139810",
   "metadata": {},
   "outputs": [
    {
     "name": "stdout",
     "output_type": "stream",
     "text": [
      "{'Jack', 'john', 'jane', 'Anti', 'bunty', 'jill'}\n"
     ]
    }
   ],
   "source": [
    "print(z)"
   ]
  },
  {
   "cell_type": "code",
   "execution_count": null,
   "id": "2884429b-2491-471f-a33d-ef64017d1dc7",
   "metadata": {},
   "outputs": [],
   "source": [
    "# true and 1 are considered as same objects"
   ]
  },
  {
   "cell_type": "code",
   "execution_count": null,
   "id": "705822af-2adc-4900-97e5-355a1aa439a6",
   "metadata": {},
   "outputs": [],
   "source": []
  },
  {
   "cell_type": "code",
   "execution_count": null,
   "id": "e6a7914e-bf94-4787-b7ad-e16d91fc21d3",
   "metadata": {},
   "outputs": [],
   "source": []
  }
 ],
 "metadata": {
  "kernelspec": {
   "display_name": "Python 3 (ipykernel)",
   "language": "python",
   "name": "python3"
  },
  "language_info": {
   "codemirror_mode": {
    "name": "ipython",
    "version": 3
   },
   "file_extension": ".py",
   "mimetype": "text/x-python",
   "name": "python",
   "nbconvert_exporter": "python",
   "pygments_lexer": "ipython3",
   "version": "3.10.12"
  }
 },
 "nbformat": 4,
 "nbformat_minor": 5
}
