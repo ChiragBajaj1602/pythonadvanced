{
 "cells": [
  {
   "cell_type": "code",
   "execution_count": 11,
   "id": "4c230617-7053-4f6a-abbc-48ca1b4a7cfb",
   "metadata": {},
   "outputs": [],
   "source": [
    "import re\n",
    "text=\"The rain is Spain\"\n",
    "x=re.search(\"^The.*Spain$\",text)"
   ]
  },
  {
   "cell_type": "raw",
   "id": "801418f2-ccae-4607-9b94-9381956b7f93",
   "metadata": {},
   "source": [
    "print(x)"
   ]
  },
  {
   "cell_type": "code",
   "execution_count": 4,
   "id": "d625d65d-4e76-41e7-963a-234676d5706a",
   "metadata": {},
   "outputs": [
    {
     "data": {
      "text/plain": [
       "re.Match"
      ]
     },
     "execution_count": 4,
     "metadata": {},
     "output_type": "execute_result"
    }
   ],
   "source": [
    "type(x)"
   ]
  },
  {
   "cell_type": "code",
   "execution_count": 19,
   "id": "b8957658-7331-4355-a0a0-4d84851fcc74",
   "metadata": {},
   "outputs": [],
   "source": [
    "text=\"The rain is\""
   ]
  },
  {
   "cell_type": "code",
   "execution_count": 20,
   "id": "bdb8e4ee-6958-42b3-9b20-4864597824e8",
   "metadata": {},
   "outputs": [],
   "source": [
    "y=re.search(\"^The *Spain$\",text)"
   ]
  },
  {
   "cell_type": "code",
   "execution_count": 21,
   "id": "14ac5436-cbce-43b0-8407-cd708ae341a1",
   "metadata": {},
   "outputs": [
    {
     "name": "stdout",
     "output_type": "stream",
     "text": [
      "None\n"
     ]
    }
   ],
   "source": [
    "print(y)"
   ]
  },
  {
   "cell_type": "code",
   "execution_count": 8,
   "id": "892080ee-ad85-43ea-98c0-88b07f93da1a",
   "metadata": {},
   "outputs": [
    {
     "data": {
      "text/plain": [
       "['', '']"
      ]
     },
     "execution_count": 8,
     "metadata": {},
     "output_type": "execute_result"
    }
   ],
   "source": [
    "re.split(\"^The.*Spain$\",text)"
   ]
  },
  {
   "cell_type": "code",
   "execution_count": 22,
   "id": "e3c21a1a-09c1-4596-8d3d-1e8e9a737493",
   "metadata": {},
   "outputs": [
    {
     "ename": "TypeError",
     "evalue": "sub() missing 2 required positional arguments: 'repl' and 'string'",
     "output_type": "error",
     "traceback": [
      "\u001b[0;31m---------------------------------------------------------------------------\u001b[0m",
      "\u001b[0;31mTypeError\u001b[0m                                 Traceback (most recent call last)",
      "Cell \u001b[0;32mIn[22], line 1\u001b[0m\n\u001b[0;32m----> 1\u001b[0m \u001b[43mre\u001b[49m\u001b[38;5;241;43m.\u001b[39;49m\u001b[43msub\u001b[49m\u001b[43m(\u001b[49m\u001b[43m(\u001b[49m\u001b[38;5;124;43m\"\u001b[39;49m\u001b[38;5;124;43mThe Spain$\u001b[39;49m\u001b[38;5;124;43m\"\u001b[39;49m\u001b[43m,\u001b[49m\u001b[38;5;124;43m\"\u001b[39;49m\u001b[38;5;124;43mhi\u001b[39;49m\u001b[38;5;124;43m\"\u001b[39;49m\u001b[43m)\u001b[49m\u001b[43m)\u001b[49m\n",
      "\u001b[0;31mTypeError\u001b[0m: sub() missing 2 required positional arguments: 'repl' and 'string'"
     ]
    }
   ],
   "source": [
    "re.sub((\"The Spain$\",\"hi\"))"
   ]
  },
  {
   "cell_type": "code",
   "execution_count": 28,
   "id": "ea703c20-2dbf-48c2-b3c1-e14a7a776a97",
   "metadata": {},
   "outputs": [
    {
     "name": "stdout",
     "output_type": "stream",
     "text": [
      "<re.Match object; span=(57, 62), match='[off]'>\n"
     ]
    }
   ],
   "source": [
    "import re\n",
    "pattern=re.compile(r\"\\[(on|off)\\]\")\n",
    "print(re.search(pattern,\"[16db] is te sound if you cna tolerate it or not turn it [off]\"))"
   ]
  },
  {
   "cell_type": "code",
   "execution_count": 29,
   "id": "4ca8b7dc-c542-4b2e-bb60-00432aacaf2d",
   "metadata": {},
   "outputs": [
    {
     "name": "stdout",
     "output_type": "stream",
     "text": [
      "Pass\n",
      "Pass\n",
      "Pass\n"
     ]
    }
   ],
   "source": [
    "def test_email(your_pattern):\n",
    "    pattern = re.compile(your_pattern)\n",
    "    emails = [\"john@example.com\", \"python-list@python.org\", \"wha.t.`1an?ug{}ly@email.com\"]\n",
    "    for email in emails:\n",
    "        if not re.match(pattern, email):\n",
    "            print(\"You failed to match %s\" % (email))\n",
    "        elif not your_pattern:\n",
    "            print(\"Forgot to enter a pattern!\")\n",
    "        else:\n",
    "            print(\"Pass\")\n",
    "pattern = r\"^.+@.+.(org|com)$\" # Your pattern here!\n",
    "test_email(pattern)"
   ]
  },
  {
   "cell_type": "code",
   "execution_count": null,
   "id": "f506bf10-7d90-445d-9bd3-86afa40edfaa",
   "metadata": {},
   "outputs": [],
   "source": []
  },
  {
   "cell_type": "code",
   "execution_count": null,
   "id": "451b147f-8e2a-403e-837a-163567fa34b8",
   "metadata": {},
   "outputs": [],
   "source": []
  },
  {
   "cell_type": "code",
   "execution_count": null,
   "id": "f84ec4f3-d3c8-4411-83cd-1f9247deb959",
   "metadata": {},
   "outputs": [],
   "source": []
  },
  {
   "cell_type": "code",
   "execution_count": null,
   "id": "9b8b999f-5eb9-40ee-a9e1-ee6bab3643d5",
   "metadata": {},
   "outputs": [],
   "source": []
  },
  {
   "cell_type": "code",
   "execution_count": null,
   "id": "5ad9e610-8b95-4fb2-ac7d-e7f2b6f70529",
   "metadata": {},
   "outputs": [],
   "source": []
  },
  {
   "cell_type": "code",
   "execution_count": null,
   "id": "905d1500-2192-485d-91e6-c9c1d6e9639f",
   "metadata": {},
   "outputs": [],
   "source": []
  },
  {
   "cell_type": "code",
   "execution_count": null,
   "id": "c7b2b78a-449f-49d9-975e-f956a7644821",
   "metadata": {},
   "outputs": [],
   "source": []
  },
  {
   "cell_type": "code",
   "execution_count": null,
   "id": "9ae90aa3-2c6e-48be-b9c3-796cd96a2589",
   "metadata": {},
   "outputs": [],
   "source": []
  },
  {
   "cell_type": "code",
   "execution_count": null,
   "id": "7d90ee74-7067-4160-b690-8ea1eabda151",
   "metadata": {},
   "outputs": [],
   "source": []
  },
  {
   "cell_type": "code",
   "execution_count": null,
   "id": "181e6890-8300-4b56-b2f5-62e4e9a68fd7",
   "metadata": {},
   "outputs": [],
   "source": []
  },
  {
   "cell_type": "code",
   "execution_count": null,
   "id": "a39983cf-d456-427d-ac24-2cb7ff4bdb62",
   "metadata": {},
   "outputs": [],
   "source": []
  },
  {
   "cell_type": "code",
   "execution_count": null,
   "id": "74972e23-5dbc-447e-83ad-79b2b5a55a66",
   "metadata": {},
   "outputs": [],
   "source": []
  },
  {
   "cell_type": "code",
   "execution_count": null,
   "id": "773a9410-3024-4597-99dd-52750554815f",
   "metadata": {},
   "outputs": [],
   "source": []
  },
  {
   "cell_type": "code",
   "execution_count": null,
   "id": "8aa32cd1-eafe-4d47-9ea1-d8991b475561",
   "metadata": {},
   "outputs": [],
   "source": []
  },
  {
   "cell_type": "code",
   "execution_count": null,
   "id": "62372f1c-8b42-48ac-82da-28364708dce0",
   "metadata": {},
   "outputs": [],
   "source": []
  },
  {
   "cell_type": "code",
   "execution_count": null,
   "id": "f211463c-3783-4925-95e8-d9b551512f45",
   "metadata": {},
   "outputs": [],
   "source": []
  },
  {
   "cell_type": "code",
   "execution_count": null,
   "id": "c32c10ee-a25f-4f5f-a6d9-50a909c3d23f",
   "metadata": {},
   "outputs": [],
   "source": []
  },
  {
   "cell_type": "code",
   "execution_count": null,
   "id": "19ebafcd-087e-40ce-8819-ace135b6834f",
   "metadata": {},
   "outputs": [],
   "source": []
  },
  {
   "cell_type": "code",
   "execution_count": null,
   "id": "6096977e-8e75-43c9-8fac-2a7ae03a64e9",
   "metadata": {},
   "outputs": [],
   "source": []
  },
  {
   "cell_type": "code",
   "execution_count": null,
   "id": "092e1b6f-3066-4cb1-8e2c-d76cb48a0fb7",
   "metadata": {},
   "outputs": [],
   "source": []
  },
  {
   "cell_type": "code",
   "execution_count": null,
   "id": "ee9cbb07-747e-4bc4-8c46-97e81c57770a",
   "metadata": {},
   "outputs": [],
   "source": []
  }
 ],
 "metadata": {
  "kernelspec": {
   "display_name": "Python 3 (ipykernel)",
   "language": "python",
   "name": "python3"
  },
  "language_info": {
   "codemirror_mode": {
    "name": "ipython",
    "version": 3
   },
   "file_extension": ".py",
   "mimetype": "text/x-python",
   "name": "python",
   "nbconvert_exporter": "python",
   "pygments_lexer": "ipython3",
   "version": "3.10.12"
  }
 },
 "nbformat": 4,
 "nbformat_minor": 5
}
