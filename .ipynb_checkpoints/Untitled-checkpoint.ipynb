{
 "cells": [
  {
   "cell_type": "code",
   "execution_count": 2,
   "id": "ea63857d-11e6-4a35-a76d-c3adb457fa38",
   "metadata": {},
   "outputs": [
    {
     "name": "stdout",
     "output_type": "stream",
     "text": [
      "{'my', 'love', 'is', 'name', 'and', 'jack', 'i', 'jill'}\n"
     ]
    }
   ],
   "source": [
    "print(set(\"my name is jack and i love jill\".split()))"
   ]
  },
  {
   "cell_type": "code",
   "execution_count": 3,
   "id": "05f392d1-f919-406e-881d-7dec6773de64",
   "metadata": {},
   "outputs": [
    {
     "name": "stdout",
     "output_type": "stream",
     "text": [
      "<class 'set'>\n"
     ]
    }
   ],
   "source": [
    "fruitset={\"apple\",\"banana\",\"cherry\"}\n",
    "print(type(fruitset))"
   ]
  },
  {
   "cell_type": "code",
   "execution_count": 5,
   "id": "2bf8c62f-d7cb-433f-b871-b84a201f93c1",
   "metadata": {},
   "outputs": [
    {
     "name": "stdout",
     "output_type": "stream",
     "text": [
      "{'banana', 'cherry', 'apple'}\n"
     ]
    }
   ],
   "source": [
    "print(fruitset)"
   ]
  },
  {
   "cell_type": "code",
   "execution_count": 6,
   "id": "33cdc544-fe3d-462b-948e-0801d99480ec",
   "metadata": {},
   "outputs": [
    {
     "name": "stdout",
     "output_type": "stream",
     "text": [
      "{False, 'banan', True, 'veges', 'fruist'}\n"
     ]
    }
   ],
   "source": [
    "this_varriableset={\"banan\",\"fruist\",\"veges\",True,False,0,1}\n",
    "print(this_varriableset)"
   ]
  },
  {
   "cell_type": "code",
   "execution_count": 7,
   "id": "95ec5932-0eb5-45c1-8e24-8dcd31fab987",
   "metadata": {},
   "outputs": [
    {
     "name": "stdout",
     "output_type": "stream",
     "text": [
      "5\n"
     ]
    }
   ],
   "source": [
    "print(len(this_varriableset))"
   ]
  },
  {
   "cell_type": "code",
   "execution_count": 8,
   "id": "95ef0170-7e8a-48f9-b3ec-b1bbd773f84a",
   "metadata": {},
   "outputs": [
    {
     "name": "stdout",
     "output_type": "stream",
     "text": [
      "False\n",
      "banan\n",
      "True\n",
      "veges\n",
      "fruist\n"
     ]
    }
   ],
   "source": [
    "for x in this_varriableset:\n",
    "    print(x)"
   ]
  },
  {
   "cell_type": "code",
   "execution_count": 9,
   "id": "b338d186-d486-4184-9d23-d5d3cedb91ee",
   "metadata": {},
   "outputs": [
    {
     "data": {
      "text/plain": [
       "<generator object iteratefruitset at 0x7f0728545af0>"
      ]
     },
     "execution_count": 9,
     "metadata": {},
     "output_type": "execute_result"
    }
   ],
   "source": [
    "def iteratefruitset(fruitset):\n",
    "    for x in range(len(fruitset)):\n",
    "        yield fruitset[x]\n",
    "iteratefruitset(fruitset)"
   ]
  },
  {
   "cell_type": "code",
   "execution_count": null,
   "id": "5ca70bca-6b0f-434c-ab9b-58aa196a7e6d",
   "metadata": {},
   "outputs": [],
   "source": []
  },
  {
   "cell_type": "code",
   "execution_count": null,
   "id": "43109296-84fa-4015-ae15-fcac57cb3128",
   "metadata": {},
   "outputs": [],
   "source": []
  },
  {
   "cell_type": "code",
   "execution_count": null,
   "id": "d5017e18-37f5-4552-911f-9dd45a3683d6",
   "metadata": {},
   "outputs": [],
   "source": []
  },
  {
   "cell_type": "code",
   "execution_count": null,
   "id": "cb5ff623-026e-44c7-815d-a3d05fdc9150",
   "metadata": {},
   "outputs": [],
   "source": []
  },
  {
   "cell_type": "code",
   "execution_count": null,
   "id": "92c5f7fd-11ec-44e9-93c5-b2d0ccf9e79b",
   "metadata": {},
   "outputs": [],
   "source": []
  },
  {
   "cell_type": "code",
   "execution_count": null,
   "id": "2de5dff5-7b2e-4d72-8270-7d8fb57799ac",
   "metadata": {},
   "outputs": [],
   "source": []
  },
  {
   "cell_type": "code",
   "execution_count": null,
   "id": "aaec88e1-a64d-4c6e-a1f9-fde374067ba9",
   "metadata": {},
   "outputs": [],
   "source": []
  },
  {
   "cell_type": "code",
   "execution_count": null,
   "id": "0dcd538e-9845-479f-be0b-aae9e7bdd0b0",
   "metadata": {},
   "outputs": [],
   "source": []
  },
  {
   "cell_type": "code",
   "execution_count": null,
   "id": "d3ac31e7-5a31-4867-9eec-e2621a8ecadc",
   "metadata": {},
   "outputs": [],
   "source": []
  },
  {
   "cell_type": "code",
   "execution_count": null,
   "id": "b1730498-f3ce-432d-8967-bf8eea43b501",
   "metadata": {},
   "outputs": [],
   "source": []
  }
 ],
 "metadata": {
  "kernelspec": {
   "display_name": "Python 3 (ipykernel)",
   "language": "python",
   "name": "python3"
  },
  "language_info": {
   "codemirror_mode": {
    "name": "ipython",
    "version": 3
   },
   "file_extension": ".py",
   "mimetype": "text/x-python",
   "name": "python",
   "nbconvert_exporter": "python",
   "pygments_lexer": "ipython3",
   "version": "3.10.12"
  }
 },
 "nbformat": 4,
 "nbformat_minor": 5
}
